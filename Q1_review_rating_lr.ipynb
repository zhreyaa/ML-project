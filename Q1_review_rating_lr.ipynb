{
 "cells": [
  {
   "cell_type": "markdown",
   "id": "66437486",
   "metadata": {},
   "source": [
    "# REVIEW RATING USING LOGISTIC REGRESSION"
   ]
  },
  {
   "cell_type": "code",
   "execution_count": 1,
   "id": "480217a3",
   "metadata": {},
   "outputs": [],
   "source": [
    "#IMPORTING LIBRARIES\n",
    "\n",
    "import numpy as np\n",
    "import pandas as pd\n",
    "from sklearn.feature_extraction.text import TfidfVectorizer\n",
    "from sklearn import model_selection,preprocessing \n",
    "from sklearn.metrics import accuracy_score\n",
    "from sklearn.linear_model import LogisticRegression\n",
    "from sklearn import metrics"
   ]
  },
  {
   "cell_type": "code",
   "execution_count": 2,
   "id": "b926b652",
   "metadata": {},
   "outputs": [
    {
     "data": {
      "text/html": [
       "<div>\n",
       "<style scoped>\n",
       "    .dataframe tbody tr th:only-of-type {\n",
       "        vertical-align: middle;\n",
       "    }\n",
       "\n",
       "    .dataframe tbody tr th {\n",
       "        vertical-align: top;\n",
       "    }\n",
       "\n",
       "    .dataframe thead th {\n",
       "        text-align: right;\n",
       "    }\n",
       "</style>\n",
       "<table border=\"1\" class=\"dataframe\">\n",
       "  <thead>\n",
       "    <tr style=\"text-align: right;\">\n",
       "      <th></th>\n",
       "      <th>Unnamed: 0</th>\n",
       "      <th>user_id</th>\n",
       "      <th>book_id</th>\n",
       "      <th>review_id</th>\n",
       "      <th>review_text</th>\n",
       "      <th>date_added</th>\n",
       "      <th>date_updated</th>\n",
       "      <th>read_at</th>\n",
       "      <th>started_at</th>\n",
       "      <th>n_votes</th>\n",
       "      <th>n_comments</th>\n",
       "      <th>rating</th>\n",
       "    </tr>\n",
       "  </thead>\n",
       "  <tbody>\n",
       "    <tr>\n",
       "      <th>0</th>\n",
       "      <td>0</td>\n",
       "      <td>d9a0f14b836e2634b89a6a7d4d9aa184</td>\n",
       "      <td>23308084</td>\n",
       "      <td>7bde8725cbb9ceb697c72c12262dff53</td>\n",
       "      <td>My complaint isnt trilogyI want Fantastic end...</td>\n",
       "      <td>Thu Jul 23 22:27:34 -0700 2015</td>\n",
       "      <td>Wed May 04 20:04:40 -0700 2016</td>\n",
       "      <td>Wed May 04 00:00:00 -0700 2016</td>\n",
       "      <td>Mon Apr 25 00:00:00 -0700 2016</td>\n",
       "      <td>1</td>\n",
       "      <td>1</td>\n",
       "      <td>5</td>\n",
       "    </tr>\n",
       "    <tr>\n",
       "      <th>1</th>\n",
       "      <td>1</td>\n",
       "      <td>3af7e1cda1d80d6a6d73e06eab301368</td>\n",
       "      <td>23310751</td>\n",
       "      <td>a9aa8356ef1ca470c98712e17005517b</td>\n",
       "      <td>read 2 day ago remember nothing disappointing</td>\n",
       "      <td>Thu Oct 13 19:33:58 -0700 2016</td>\n",
       "      <td>Thu Oct 13 19:34:28 -0700 2016</td>\n",
       "      <td>Mon Oct 10 00:00:00 -0700 2016</td>\n",
       "      <td>NaN</td>\n",
       "      <td>3</td>\n",
       "      <td>0</td>\n",
       "      <td>2</td>\n",
       "    </tr>\n",
       "    <tr>\n",
       "      <th>2</th>\n",
       "      <td>2</td>\n",
       "      <td>dd669721e136c1be47d739b14fa23d20</td>\n",
       "      <td>210252</td>\n",
       "      <td>8739baeb543858142605442041d79524</td>\n",
       "      <td>I wasnt fan first Monster Blood second additi...</td>\n",
       "      <td>Thu Feb 27 01:44:54 -0800 2014</td>\n",
       "      <td>Sun Oct 18 20:46:53 -0700 2015</td>\n",
       "      <td>Thu Feb 27 00:00:00 -0800 2014</td>\n",
       "      <td>NaN</td>\n",
       "      <td>0</td>\n",
       "      <td>0</td>\n",
       "      <td>2</td>\n",
       "    </tr>\n",
       "    <tr>\n",
       "      <th>3</th>\n",
       "      <td>3</td>\n",
       "      <td>aec624fd1ad0034f2553b7dc55ee1cd0</td>\n",
       "      <td>472392</td>\n",
       "      <td>1791472bb94c9733802303ecf34d9c53</td>\n",
       "      <td>Love Theo much The interaction brother absolu...</td>\n",
       "      <td>Sun Aug 28 08:19:18 -0700 2016</td>\n",
       "      <td>Sat Sep 03 17:42:00 -0700 2016</td>\n",
       "      <td>Fri Sep 02 03:12:59 -0700 2016</td>\n",
       "      <td>Sun Aug 28 00:00:00 -0700 2016</td>\n",
       "      <td>0</td>\n",
       "      <td>0</td>\n",
       "      <td>4</td>\n",
       "    </tr>\n",
       "    <tr>\n",
       "      <th>4</th>\n",
       "      <td>4</td>\n",
       "      <td>d67aef0988e1814a819259eb11c92788</td>\n",
       "      <td>17675462</td>\n",
       "      <td>d98212782db1271607a94c5836ef6189</td>\n",
       "      <td>good book get middle part looking forward rea...</td>\n",
       "      <td>Mon Jan 11 07:20:47 -0800 2016</td>\n",
       "      <td>Mon Mar 14 07:30:27 -0700 2016</td>\n",
       "      <td>Sun Mar 13 00:00:00 -0800 2016</td>\n",
       "      <td>Mon Jan 11 00:00:00 -0800 2016</td>\n",
       "      <td>0</td>\n",
       "      <td>0</td>\n",
       "      <td>4</td>\n",
       "    </tr>\n",
       "  </tbody>\n",
       "</table>\n",
       "</div>"
      ],
      "text/plain": [
       "   Unnamed: 0                           user_id   book_id  \\\n",
       "0           0  d9a0f14b836e2634b89a6a7d4d9aa184  23308084   \n",
       "1           1  3af7e1cda1d80d6a6d73e06eab301368  23310751   \n",
       "2           2  dd669721e136c1be47d739b14fa23d20    210252   \n",
       "3           3  aec624fd1ad0034f2553b7dc55ee1cd0    472392   \n",
       "4           4  d67aef0988e1814a819259eb11c92788  17675462   \n",
       "\n",
       "                          review_id  \\\n",
       "0  7bde8725cbb9ceb697c72c12262dff53   \n",
       "1  a9aa8356ef1ca470c98712e17005517b   \n",
       "2  8739baeb543858142605442041d79524   \n",
       "3  1791472bb94c9733802303ecf34d9c53   \n",
       "4  d98212782db1271607a94c5836ef6189   \n",
       "\n",
       "                                         review_text  \\\n",
       "0   My complaint isnt trilogyI want Fantastic end...   \n",
       "1      read 2 day ago remember nothing disappointing   \n",
       "2   I wasnt fan first Monster Blood second additi...   \n",
       "3   Love Theo much The interaction brother absolu...   \n",
       "4   good book get middle part looking forward rea...   \n",
       "\n",
       "                       date_added                    date_updated  \\\n",
       "0  Thu Jul 23 22:27:34 -0700 2015  Wed May 04 20:04:40 -0700 2016   \n",
       "1  Thu Oct 13 19:33:58 -0700 2016  Thu Oct 13 19:34:28 -0700 2016   \n",
       "2  Thu Feb 27 01:44:54 -0800 2014  Sun Oct 18 20:46:53 -0700 2015   \n",
       "3  Sun Aug 28 08:19:18 -0700 2016  Sat Sep 03 17:42:00 -0700 2016   \n",
       "4  Mon Jan 11 07:20:47 -0800 2016  Mon Mar 14 07:30:27 -0700 2016   \n",
       "\n",
       "                          read_at                      started_at  n_votes  \\\n",
       "0  Wed May 04 00:00:00 -0700 2016  Mon Apr 25 00:00:00 -0700 2016        1   \n",
       "1  Mon Oct 10 00:00:00 -0700 2016                             NaN        3   \n",
       "2  Thu Feb 27 00:00:00 -0800 2014                             NaN        0   \n",
       "3  Fri Sep 02 03:12:59 -0700 2016  Sun Aug 28 00:00:00 -0700 2016        0   \n",
       "4  Sun Mar 13 00:00:00 -0800 2016  Mon Jan 11 00:00:00 -0800 2016        0   \n",
       "\n",
       "   n_comments  rating  \n",
       "0           1       5  \n",
       "1           0       2  \n",
       "2           0       2  \n",
       "3           0       4  \n",
       "4           0       4  "
      ]
     },
     "execution_count": 2,
     "metadata": {},
     "output_type": "execute_result"
    }
   ],
   "source": [
    "#Importing pre-processed train data\n",
    "\n",
    "df=pd.read_csv(\"./train_preprocessed_v2.csv\")\n",
    "df.head()"
   ]
  },
  {
   "cell_type": "code",
   "execution_count": 3,
   "id": "49183a7d",
   "metadata": {},
   "outputs": [],
   "source": [
    "df.fillna(0,inplace=True)"
   ]
  },
  {
   "cell_type": "code",
   "execution_count": 4,
   "id": "f8b6829a",
   "metadata": {},
   "outputs": [],
   "source": [
    "df['combined_text'] = df['review_text'].astype(str) + ' ' + df['book_id'].astype(str) + ' ' +df['n_comments'].astype(str)+ ' ' + df['n_votes'].astype(str) + ' ' +df['user_id'].astype(str)+ ' ' +df['review_id'].astype(str)"
   ]
  },
  {
   "cell_type": "code",
   "execution_count": 5,
   "id": "2d9f6493",
   "metadata": {},
   "outputs": [
    {
     "data": {
      "text/plain": [
       "<630000x1193687 sparse matrix of type '<class 'numpy.float64'>'\n",
       "\twith 51771025 stored elements in Compressed Sparse Row format>"
      ]
     },
     "execution_count": 5,
     "metadata": {},
     "output_type": "execute_result"
    }
   ],
   "source": [
    "#Using TF-IDF vectorizer for tranforming the text data and fit-transforming it\n",
    "\n",
    "vectorizer=TfidfVectorizer()\n",
    "vectors=vectorizer.fit_transform(df['combined_text'].values.astype(\"U\"))\n",
    "vectors"
   ]
  },
  {
   "cell_type": "code",
   "execution_count": 6,
   "id": "b40bf874",
   "metadata": {},
   "outputs": [
    {
     "data": {
      "text/plain": [
       "array(['00', '000', '0000', ..., 'zzzzzzzzzzzzzzzzzzzzz',\n",
       "       'zzzzzzzzzzzzzzzzzzzzzzzzzzzzzzz',\n",
       "       'zzzzzzzzzzzzzzzzzzzzzzzzzzzzzzzzzzzzzzzzzzzzzzzzzzz'],\n",
       "      dtype=object)"
      ]
     },
     "execution_count": 6,
     "metadata": {},
     "output_type": "execute_result"
    }
   ],
   "source": [
    "vectorizer.get_feature_names_out()"
   ]
  },
  {
   "cell_type": "code",
   "execution_count": 7,
   "id": "a3599cc8",
   "metadata": {},
   "outputs": [
    {
     "name": "stdout",
     "output_type": "stream",
     "text": [
      "(504000, 1193687) (126000, 1193687)\n"
     ]
    }
   ],
   "source": [
    "#Splitting test and train data for model training\n",
    "#test data 20% train data 80%\n",
    "\n",
    "train_x,valid_x,train_y,valid_y=model_selection.train_test_split(vectors,df['rating'],test_size=0.2)\n",
    "print(train_x.shape,valid_x.shape)"
   ]
  },
  {
   "cell_type": "code",
   "execution_count": 8,
   "id": "3f01be48",
   "metadata": {},
   "outputs": [
    {
     "data": {
      "text/plain": [
       "array([4, 3, 5, ..., 3, 1, 4], dtype=int64)"
      ]
     },
     "execution_count": 8,
     "metadata": {},
     "output_type": "execute_result"
    }
   ],
   "source": [
    "#Assigning numerical values to train_y and valid_y using LabelEncoder to give proper input for logistic regression\n",
    "\n",
    "encoder=preprocessing.LabelEncoder()\n",
    "train_y=encoder.fit_transform(train_y)\n",
    "valid_y=encoder.transform(valid_y)\n",
    "valid_y"
   ]
  },
  {
   "cell_type": "code",
   "execution_count": 9,
   "id": "2a5f78ee",
   "metadata": {},
   "outputs": [
    {
     "name": "stderr",
     "output_type": "stream",
     "text": [
      "C:\\Users\\shrey\\anaconda3\\Lib\\site-packages\\sklearn\\linear_model\\_logistic.py:458: ConvergenceWarning: lbfgs failed to converge (status=1):\n",
      "STOP: TOTAL NO. of ITERATIONS REACHED LIMIT.\n",
      "\n",
      "Increase the number of iterations (max_iter) or scale the data as shown in:\n",
      "    https://scikit-learn.org/stable/modules/preprocessing.html\n",
      "Please also refer to the documentation for alternative solver options:\n",
      "    https://scikit-learn.org/stable/modules/linear_model.html#logistic-regression\n",
      "  n_iter_i = _check_optimize_result(\n"
     ]
    },
    {
     "data": {
      "text/html": [
       "<style>#sk-container-id-1 {color: black;background-color: white;}#sk-container-id-1 pre{padding: 0;}#sk-container-id-1 div.sk-toggleable {background-color: white;}#sk-container-id-1 label.sk-toggleable__label {cursor: pointer;display: block;width: 100%;margin-bottom: 0;padding: 0.3em;box-sizing: border-box;text-align: center;}#sk-container-id-1 label.sk-toggleable__label-arrow:before {content: \"▸\";float: left;margin-right: 0.25em;color: #696969;}#sk-container-id-1 label.sk-toggleable__label-arrow:hover:before {color: black;}#sk-container-id-1 div.sk-estimator:hover label.sk-toggleable__label-arrow:before {color: black;}#sk-container-id-1 div.sk-toggleable__content {max-height: 0;max-width: 0;overflow: hidden;text-align: left;background-color: #f0f8ff;}#sk-container-id-1 div.sk-toggleable__content pre {margin: 0.2em;color: black;border-radius: 0.25em;background-color: #f0f8ff;}#sk-container-id-1 input.sk-toggleable__control:checked~div.sk-toggleable__content {max-height: 200px;max-width: 100%;overflow: auto;}#sk-container-id-1 input.sk-toggleable__control:checked~label.sk-toggleable__label-arrow:before {content: \"▾\";}#sk-container-id-1 div.sk-estimator input.sk-toggleable__control:checked~label.sk-toggleable__label {background-color: #d4ebff;}#sk-container-id-1 div.sk-label input.sk-toggleable__control:checked~label.sk-toggleable__label {background-color: #d4ebff;}#sk-container-id-1 input.sk-hidden--visually {border: 0;clip: rect(1px 1px 1px 1px);clip: rect(1px, 1px, 1px, 1px);height: 1px;margin: -1px;overflow: hidden;padding: 0;position: absolute;width: 1px;}#sk-container-id-1 div.sk-estimator {font-family: monospace;background-color: #f0f8ff;border: 1px dotted black;border-radius: 0.25em;box-sizing: border-box;margin-bottom: 0.5em;}#sk-container-id-1 div.sk-estimator:hover {background-color: #d4ebff;}#sk-container-id-1 div.sk-parallel-item::after {content: \"\";width: 100%;border-bottom: 1px solid gray;flex-grow: 1;}#sk-container-id-1 div.sk-label:hover label.sk-toggleable__label {background-color: #d4ebff;}#sk-container-id-1 div.sk-serial::before {content: \"\";position: absolute;border-left: 1px solid gray;box-sizing: border-box;top: 0;bottom: 0;left: 50%;z-index: 0;}#sk-container-id-1 div.sk-serial {display: flex;flex-direction: column;align-items: center;background-color: white;padding-right: 0.2em;padding-left: 0.2em;position: relative;}#sk-container-id-1 div.sk-item {position: relative;z-index: 1;}#sk-container-id-1 div.sk-parallel {display: flex;align-items: stretch;justify-content: center;background-color: white;position: relative;}#sk-container-id-1 div.sk-item::before, #sk-container-id-1 div.sk-parallel-item::before {content: \"\";position: absolute;border-left: 1px solid gray;box-sizing: border-box;top: 0;bottom: 0;left: 50%;z-index: -1;}#sk-container-id-1 div.sk-parallel-item {display: flex;flex-direction: column;z-index: 1;position: relative;background-color: white;}#sk-container-id-1 div.sk-parallel-item:first-child::after {align-self: flex-end;width: 50%;}#sk-container-id-1 div.sk-parallel-item:last-child::after {align-self: flex-start;width: 50%;}#sk-container-id-1 div.sk-parallel-item:only-child::after {width: 0;}#sk-container-id-1 div.sk-dashed-wrapped {border: 1px dashed gray;margin: 0 0.4em 0.5em 0.4em;box-sizing: border-box;padding-bottom: 0.4em;background-color: white;}#sk-container-id-1 div.sk-label label {font-family: monospace;font-weight: bold;display: inline-block;line-height: 1.2em;}#sk-container-id-1 div.sk-label-container {text-align: center;}#sk-container-id-1 div.sk-container {/* jupyter's `normalize.less` sets `[hidden] { display: none; }` but bootstrap.min.css set `[hidden] { display: none !important; }` so we also need the `!important` here to be able to override the default hidden behavior on the sphinx rendered scikit-learn.org. See: https://github.com/scikit-learn/scikit-learn/issues/21755 */display: inline-block !important;position: relative;}#sk-container-id-1 div.sk-text-repr-fallback {display: none;}</style><div id=\"sk-container-id-1\" class=\"sk-top-container\"><div class=\"sk-text-repr-fallback\"><pre>LogisticRegression()</pre><b>In a Jupyter environment, please rerun this cell to show the HTML representation or trust the notebook. <br />On GitHub, the HTML representation is unable to render, please try loading this page with nbviewer.org.</b></div><div class=\"sk-container\" hidden><div class=\"sk-item\"><div class=\"sk-estimator sk-toggleable\"><input class=\"sk-toggleable__control sk-hidden--visually\" id=\"sk-estimator-id-1\" type=\"checkbox\" checked><label for=\"sk-estimator-id-1\" class=\"sk-toggleable__label sk-toggleable__label-arrow\">LogisticRegression</label><div class=\"sk-toggleable__content\"><pre>LogisticRegression()</pre></div></div></div></div></div>"
      ],
      "text/plain": [
       "LogisticRegression()"
      ]
     },
     "execution_count": 9,
     "metadata": {},
     "output_type": "execute_result"
    }
   ],
   "source": [
    "#Applying logistic regression for training the model\n",
    "\n",
    "logreg=LogisticRegression()\n",
    "logreg.fit(train_x,train_y)"
   ]
  },
  {
   "cell_type": "code",
   "execution_count": 10,
   "id": "fe0268eb",
   "metadata": {},
   "outputs": [
    {
     "data": {
      "text/plain": [
       "array([4, 4, 5, ..., 3, 0, 4], dtype=int64)"
      ]
     },
     "execution_count": 10,
     "metadata": {},
     "output_type": "execute_result"
    }
   ],
   "source": [
    "#Predicting ratings for the reviews\n",
    "\n",
    "y_pred=logreg.predict(valid_x)\n",
    "y_pred"
   ]
  },
  {
   "cell_type": "code",
   "execution_count": 11,
   "id": "2299d5d7",
   "metadata": {},
   "outputs": [
    {
     "name": "stdout",
     "output_type": "stream",
     "text": [
      "Accuracy: 0.55\n"
     ]
    }
   ],
   "source": [
    "#Accuracy of the predicted ratings\n",
    "\n",
    "print('Accuracy: {:.2f}'.format(accuracy_score(y_pred,valid_y)))"
   ]
  },
  {
   "cell_type": "code",
   "execution_count": 12,
   "id": "c9c14880",
   "metadata": {},
   "outputs": [
    {
     "data": {
      "text/html": [
       "<div>\n",
       "<style scoped>\n",
       "    .dataframe tbody tr th:only-of-type {\n",
       "        vertical-align: middle;\n",
       "    }\n",
       "\n",
       "    .dataframe tbody tr th {\n",
       "        vertical-align: top;\n",
       "    }\n",
       "\n",
       "    .dataframe thead th {\n",
       "        text-align: right;\n",
       "    }\n",
       "</style>\n",
       "<table border=\"1\" class=\"dataframe\">\n",
       "  <thead>\n",
       "    <tr style=\"text-align: right;\">\n",
       "      <th></th>\n",
       "      <th>Unnamed: 0</th>\n",
       "      <th>user_id</th>\n",
       "      <th>book_id</th>\n",
       "      <th>review_id</th>\n",
       "      <th>review_text</th>\n",
       "      <th>date_added</th>\n",
       "      <th>date_updated</th>\n",
       "      <th>read_at</th>\n",
       "      <th>started_at</th>\n",
       "      <th>n_votes</th>\n",
       "      <th>n_comments</th>\n",
       "    </tr>\n",
       "  </thead>\n",
       "  <tbody>\n",
       "    <tr>\n",
       "      <th>0</th>\n",
       "      <td>0</td>\n",
       "      <td>718b567507be85b2725184ad20fda10b</td>\n",
       "      <td>18966819</td>\n",
       "      <td>583b1ad3d3ab9b0f967bc73c2f5d68d8</td>\n",
       "      <td>Cliffhanger Im really enjoying series</td>\n",
       "      <td>Mon Aug 24 14:29:33 -0700 2015</td>\n",
       "      <td>Tue Nov 10 20:39:11 -0800 2015</td>\n",
       "      <td>NaN</td>\n",
       "      <td>NaN</td>\n",
       "      <td>2</td>\n",
       "      <td>0</td>\n",
       "    </tr>\n",
       "    <tr>\n",
       "      <th>1</th>\n",
       "      <td>1</td>\n",
       "      <td>874507ab349b2258eaecd967f4573c00</td>\n",
       "      <td>21798646</td>\n",
       "      <td>e53e941fb1bd2f76fb270cedbb1479b8</td>\n",
       "      <td>Loved loved loved Coherent thought coming Friday</td>\n",
       "      <td>Wed Sep 03 05:55:12 -0700 2014</td>\n",
       "      <td>Wed Sep 03 10:45:09 -0700 2014</td>\n",
       "      <td>Wed Sep 03 10:45:09 -0700 2014</td>\n",
       "      <td>Wed Sep 03 00:00:00 -0700 2014</td>\n",
       "      <td>0</td>\n",
       "      <td>0</td>\n",
       "    </tr>\n",
       "    <tr>\n",
       "      <th>2</th>\n",
       "      <td>2</td>\n",
       "      <td>0f60dc9b494a4fd2346b847c5fe71c2d</td>\n",
       "      <td>12983100</td>\n",
       "      <td>e2ab3d609db0a5c7aaed9ee136073c53</td>\n",
       "      <td>The first half little slow maybe little angel...</td>\n",
       "      <td>Sat Mar 01 07:26:43 -0800 2014</td>\n",
       "      <td>Tue Mar 18 01:34:08 -0700 2014</td>\n",
       "      <td>Fri Mar 14 00:00:00 -0700 2014</td>\n",
       "      <td>Sat Mar 01 00:00:00 -0800 2014</td>\n",
       "      <td>0</td>\n",
       "      <td>0</td>\n",
       "    </tr>\n",
       "    <tr>\n",
       "      <th>3</th>\n",
       "      <td>3</td>\n",
       "      <td>06a69afa62684fe2f2576c3995bd725a</td>\n",
       "      <td>2657</td>\n",
       "      <td>740ebae0f5b7fd0b7c9890ef306099f6</td>\n",
       "      <td>This one assigned book I actually read school...</td>\n",
       "      <td>Sat Nov 13 00:43:11 -0800 2010</td>\n",
       "      <td>Sat Nov 13 01:18:27 -0800 2010</td>\n",
       "      <td>NaN</td>\n",
       "      <td>NaN</td>\n",
       "      <td>0</td>\n",
       "      <td>0</td>\n",
       "    </tr>\n",
       "    <tr>\n",
       "      <th>4</th>\n",
       "      <td>4</td>\n",
       "      <td>13531375580eb87a50cb211fada64603</td>\n",
       "      <td>15507958</td>\n",
       "      <td>f4812f3464aaf50d56480025afb22c57</td>\n",
       "      <td>25 star rounding I liked book well enough sig...</td>\n",
       "      <td>Wed Apr 29 04:21:13 -0700 2015</td>\n",
       "      <td>Tue Jun 02 06:15:53 -0700 2015</td>\n",
       "      <td>Wed Apr 29 05:19:01 -0700 2015</td>\n",
       "      <td>NaN</td>\n",
       "      <td>3</td>\n",
       "      <td>0</td>\n",
       "    </tr>\n",
       "  </tbody>\n",
       "</table>\n",
       "</div>"
      ],
      "text/plain": [
       "   Unnamed: 0                           user_id   book_id  \\\n",
       "0           0  718b567507be85b2725184ad20fda10b  18966819   \n",
       "1           1  874507ab349b2258eaecd967f4573c00  21798646   \n",
       "2           2  0f60dc9b494a4fd2346b847c5fe71c2d  12983100   \n",
       "3           3  06a69afa62684fe2f2576c3995bd725a      2657   \n",
       "4           4  13531375580eb87a50cb211fada64603  15507958   \n",
       "\n",
       "                          review_id  \\\n",
       "0  583b1ad3d3ab9b0f967bc73c2f5d68d8   \n",
       "1  e53e941fb1bd2f76fb270cedbb1479b8   \n",
       "2  e2ab3d609db0a5c7aaed9ee136073c53   \n",
       "3  740ebae0f5b7fd0b7c9890ef306099f6   \n",
       "4  f4812f3464aaf50d56480025afb22c57   \n",
       "\n",
       "                                         review_text  \\\n",
       "0              Cliffhanger Im really enjoying series   \n",
       "1   Loved loved loved Coherent thought coming Friday   \n",
       "2   The first half little slow maybe little angel...   \n",
       "3   This one assigned book I actually read school...   \n",
       "4   25 star rounding I liked book well enough sig...   \n",
       "\n",
       "                       date_added                    date_updated  \\\n",
       "0  Mon Aug 24 14:29:33 -0700 2015  Tue Nov 10 20:39:11 -0800 2015   \n",
       "1  Wed Sep 03 05:55:12 -0700 2014  Wed Sep 03 10:45:09 -0700 2014   \n",
       "2  Sat Mar 01 07:26:43 -0800 2014  Tue Mar 18 01:34:08 -0700 2014   \n",
       "3  Sat Nov 13 00:43:11 -0800 2010  Sat Nov 13 01:18:27 -0800 2010   \n",
       "4  Wed Apr 29 04:21:13 -0700 2015  Tue Jun 02 06:15:53 -0700 2015   \n",
       "\n",
       "                          read_at                      started_at  n_votes  \\\n",
       "0                             NaN                             NaN        2   \n",
       "1  Wed Sep 03 10:45:09 -0700 2014  Wed Sep 03 00:00:00 -0700 2014        0   \n",
       "2  Fri Mar 14 00:00:00 -0700 2014  Sat Mar 01 00:00:00 -0800 2014        0   \n",
       "3                             NaN                             NaN        0   \n",
       "4  Wed Apr 29 05:19:01 -0700 2015                             NaN        3   \n",
       "\n",
       "   n_comments  \n",
       "0           0  \n",
       "1           0  \n",
       "2           0  \n",
       "3           0  \n",
       "4           0  "
      ]
     },
     "execution_count": 12,
     "metadata": {},
     "output_type": "execute_result"
    }
   ],
   "source": [
    "#Importing the pre-processed test data\n",
    "\n",
    "tdf=pd.read_csv(\"./test_preprocessed_v2.csv\")\n",
    "tdf.head()"
   ]
  },
  {
   "cell_type": "code",
   "execution_count": 13,
   "id": "e4268acb",
   "metadata": {},
   "outputs": [],
   "source": [
    "tdf.fillna(0,inplace=True)"
   ]
  },
  {
   "cell_type": "code",
   "execution_count": 14,
   "id": "bd82874b",
   "metadata": {},
   "outputs": [],
   "source": [
    "tdf['combined_text'] = tdf['review_text'].astype(str) + ' ' + tdf['book_id'].astype(str) + ' ' +tdf['n_comments'].astype(str)+ ' ' + tdf['n_votes'].astype(str) + ' ' +tdf['user_id'].astype(str)+ ' ' +tdf['review_id'].astype(str)"
   ]
  },
  {
   "cell_type": "code",
   "execution_count": 15,
   "id": "f07cc580",
   "metadata": {},
   "outputs": [
    {
     "data": {
      "text/plain": [
       "<270000x1193687 sparse matrix of type '<class 'numpy.float64'>'\n",
       "\twith 21783634 stored elements in Compressed Sparse Row format>"
      ]
     },
     "execution_count": 15,
     "metadata": {},
     "output_type": "execute_result"
    }
   ],
   "source": [
    "#Transforming the test data using TF-IDF vectorizer\n",
    "\n",
    "tdf_reviews=tdf.loc[:,[\"combined_text\"]]\n",
    "tdf_reviews.fillna('', inplace=True)\n",
    "tdf_reviews=np.array(tdf_reviews)\n",
    "tdf_reviews=tdf_reviews.flatten()\n",
    "tdf_test=vectorizer.transform(tdf_reviews)\n",
    "tdf_test"
   ]
  },
  {
   "cell_type": "code",
   "execution_count": 16,
   "id": "98c7d321",
   "metadata": {},
   "outputs": [
    {
     "data": {
      "text/plain": [
       "array([4, 5, 3, ..., 3, 3, 5], dtype=int64)"
      ]
     },
     "execution_count": 16,
     "metadata": {},
     "output_type": "execute_result"
    }
   ],
   "source": [
    "#Predicting the test data ratings for the given test data reviews using logistic regression\n",
    "\n",
    "predict_ratings=logreg.predict(tdf_test)\n",
    "predict_ratings"
   ]
  },
  {
   "cell_type": "code",
   "execution_count": 17,
   "id": "d9ec0ff7",
   "metadata": {},
   "outputs": [],
   "source": [
    "#Appending the rating column for output\n",
    "\n",
    "tdf['rating']=predict_ratings"
   ]
  },
  {
   "cell_type": "code",
   "execution_count": 18,
   "id": "d977facc",
   "metadata": {},
   "outputs": [
    {
     "data": {
      "text/html": [
       "<div>\n",
       "<style scoped>\n",
       "    .dataframe tbody tr th:only-of-type {\n",
       "        vertical-align: middle;\n",
       "    }\n",
       "\n",
       "    .dataframe tbody tr th {\n",
       "        vertical-align: top;\n",
       "    }\n",
       "\n",
       "    .dataframe thead th {\n",
       "        text-align: right;\n",
       "    }\n",
       "</style>\n",
       "<table border=\"1\" class=\"dataframe\">\n",
       "  <thead>\n",
       "    <tr style=\"text-align: right;\">\n",
       "      <th></th>\n",
       "      <th>review_id</th>\n",
       "      <th>rating</th>\n",
       "    </tr>\n",
       "  </thead>\n",
       "  <tbody>\n",
       "    <tr>\n",
       "      <th>0</th>\n",
       "      <td>583b1ad3d3ab9b0f967bc73c2f5d68d8</td>\n",
       "      <td>4</td>\n",
       "    </tr>\n",
       "    <tr>\n",
       "      <th>1</th>\n",
       "      <td>e53e941fb1bd2f76fb270cedbb1479b8</td>\n",
       "      <td>5</td>\n",
       "    </tr>\n",
       "    <tr>\n",
       "      <th>2</th>\n",
       "      <td>e2ab3d609db0a5c7aaed9ee136073c53</td>\n",
       "      <td>3</td>\n",
       "    </tr>\n",
       "    <tr>\n",
       "      <th>3</th>\n",
       "      <td>740ebae0f5b7fd0b7c9890ef306099f6</td>\n",
       "      <td>5</td>\n",
       "    </tr>\n",
       "    <tr>\n",
       "      <th>4</th>\n",
       "      <td>f4812f3464aaf50d56480025afb22c57</td>\n",
       "      <td>2</td>\n",
       "    </tr>\n",
       "  </tbody>\n",
       "</table>\n",
       "</div>"
      ],
      "text/plain": [
       "                          review_id  rating\n",
       "0  583b1ad3d3ab9b0f967bc73c2f5d68d8       4\n",
       "1  e53e941fb1bd2f76fb270cedbb1479b8       5\n",
       "2  e2ab3d609db0a5c7aaed9ee136073c53       3\n",
       "3  740ebae0f5b7fd0b7c9890ef306099f6       5\n",
       "4  f4812f3464aaf50d56480025afb22c57       2"
      ]
     },
     "execution_count": 18,
     "metadata": {},
     "output_type": "execute_result"
    }
   ],
   "source": [
    "#Formatting the data according the required columns\n",
    "\n",
    "tdf=tdf.loc[:,['review_id','rating']]\n",
    "tdf.head()"
   ]
  },
  {
   "cell_type": "code",
   "execution_count": 19,
   "id": "74d15979",
   "metadata": {},
   "outputs": [],
   "source": [
    "#Exporting the test data results\n",
    "\n",
    "tdf.to_csv(\"./results_lr4.csv\")"
   ]
  },
  {
   "cell_type": "code",
   "execution_count": 20,
   "id": "52a62aee",
   "metadata": {
    "scrolled": true
   },
   "outputs": [
    {
     "data": {
      "image/png": "[encoded data removed]",
      "text/plain": [
       "<Figure size 640x480 with 2 Axes>"
      ]
     },
     "metadata": {},
     "output_type": "display_data"
    },
    {
     "name": "stdout",
     "output_type": "stream",
     "text": [
      "              precision    recall  f1-score   support\n",
      "\n",
      "           0       0.57      0.26      0.36      4218\n",
      "           1       0.47      0.31      0.37      4038\n",
      "           2       0.44      0.29      0.35     10276\n",
      "           3       0.49      0.42      0.45     26568\n",
      "           4       0.51      0.63      0.56     43710\n",
      "           5       0.65      0.66      0.66     37190\n",
      "\n",
      "    accuracy                           0.55    126000\n",
      "   macro avg       0.52      0.43      0.46    126000\n",
      "weighted avg       0.54      0.55      0.54    126000\n",
      "\n"
     ]
    }
   ],
   "source": [
    "from sklearn.metrics import confusion_matrix\n",
    "from sklearn.metrics import classification_report\n",
    "import seaborn as sns\n",
    "import matplotlib.pyplot as plt\n",
    "# Create a confusion matrix\n",
    "cm = confusion_matrix(valid_y,y_pred)\n",
    "\n",
    "# Plot confusion matrix as a heatmap\n",
    "sns.heatmap(cm, annot=True, fmt='d', cmap='Blues', xticklabels=np.unique(df[\"rating\"]), yticklabels=np.unique(df[\"rating\"]))\n",
    "plt.xlabel('Predicted Label')\n",
    "plt.ylabel('True Label')\n",
    "plt.title('Confusion Matrix')\n",
    "plt.show()\n",
    "\n",
    "# Display classification report\n",
    "print(classification_report(valid_y,y_pred))"
   ]
  },
  {
   "cell_type": "code",
   "execution_count": null,
   "id": "4d1364b3",
   "metadata": {},
   "outputs": [],
   "source": []
  }
 ],
 "metadata": {
  "kernelspec": {
   "display_name": "Python 3 (ipykernel)",
   "language": "python",
   "name": "python3"
  },
  "language_info": {
   "codemirror_mode": {
    "name": "ipython",
    "version": 3
   },
   "file_extension": ".py",
   "mimetype": "text/x-python",
   "name": "python",
   "nbconvert_exporter": "python",
   "pygments_lexer": "ipython3",
   "version": "3.11.3"
  }
 },
 "nbformat": 4,
 "nbformat_minor": 5
}
